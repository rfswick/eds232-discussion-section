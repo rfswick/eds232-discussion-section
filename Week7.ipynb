{
 "cells": [
  {
   "cell_type": "markdown",
   "id": "e9585c30-3105-47b5-ac60-4dffda844764",
   "metadata": {},
   "source": [
    "# Discussion Section 7"
   ]
  },
  {
   "cell_type": "code",
   "execution_count": 2,
   "id": "0f5703de-af79-4d24-8b47-f607967f614f",
   "metadata": {
    "tags": []
   },
   "outputs": [],
   "source": [
    "import pandas as pd\n",
    "import numpy as np\n",
    "from sklearn.model_selection import train_test_split\n",
    "from sklearn.feature_extraction.text import TfidfVectorizer, CountVectorizer\n",
    "from sklearn.linear_model import LogisticRegression\n",
    "from sklearn.metrics import classification_report, f1_score, accuracy_score, confusion_matrix\n",
    "from sklearn.metrics import roc_curve, auc, roc_auc_score\n",
    "import re\n",
    "import string\n",
    "import matplotlib.pyplot as plt\n",
    "import seaborn as sns"
   ]
  },
  {
   "cell_type": "code",
   "execution_count": 10,
   "id": "89cfccaf-3044-429f-bc85-6580663efd57",
   "metadata": {
    "tags": []
   },
   "outputs": [
    {
     "data": {
      "text/html": [
       "<div>\n",
       "<style scoped>\n",
       "    .dataframe tbody tr th:only-of-type {\n",
       "        vertical-align: middle;\n",
       "    }\n",
       "\n",
       "    .dataframe tbody tr th {\n",
       "        vertical-align: top;\n",
       "    }\n",
       "\n",
       "    .dataframe thead th {\n",
       "        text-align: right;\n",
       "    }\n",
       "</style>\n",
       "<table border=\"1\" class=\"dataframe\">\n",
       "  <thead>\n",
       "    <tr style=\"text-align: right;\">\n",
       "      <th></th>\n",
       "      <th>id</th>\n",
       "      <th>keyword</th>\n",
       "      <th>location</th>\n",
       "      <th>text</th>\n",
       "      <th>target</th>\n",
       "    </tr>\n",
       "  </thead>\n",
       "  <tbody>\n",
       "    <tr>\n",
       "      <th>0</th>\n",
       "      <td>1</td>\n",
       "      <td>NaN</td>\n",
       "      <td>NaN</td>\n",
       "      <td>Our Deeds are the Reason of this #earthquake M...</td>\n",
       "      <td>1</td>\n",
       "    </tr>\n",
       "    <tr>\n",
       "      <th>1</th>\n",
       "      <td>4</td>\n",
       "      <td>NaN</td>\n",
       "      <td>NaN</td>\n",
       "      <td>Forest fire near La Ronge Sask. Canada</td>\n",
       "      <td>1</td>\n",
       "    </tr>\n",
       "    <tr>\n",
       "      <th>2</th>\n",
       "      <td>5</td>\n",
       "      <td>NaN</td>\n",
       "      <td>NaN</td>\n",
       "      <td>All residents asked to 'shelter in place' are ...</td>\n",
       "      <td>1</td>\n",
       "    </tr>\n",
       "    <tr>\n",
       "      <th>3</th>\n",
       "      <td>6</td>\n",
       "      <td>NaN</td>\n",
       "      <td>NaN</td>\n",
       "      <td>13,000 people receive #wildfires evacuation or...</td>\n",
       "      <td>1</td>\n",
       "    </tr>\n",
       "    <tr>\n",
       "      <th>4</th>\n",
       "      <td>7</td>\n",
       "      <td>NaN</td>\n",
       "      <td>NaN</td>\n",
       "      <td>Just got sent this photo from Ruby #Alaska as ...</td>\n",
       "      <td>1</td>\n",
       "    </tr>\n",
       "  </tbody>\n",
       "</table>\n",
       "</div>"
      ],
      "text/plain": [
       "   id keyword location                                               text  \\\n",
       "0   1     NaN      NaN  Our Deeds are the Reason of this #earthquake M...   \n",
       "1   4     NaN      NaN             Forest fire near La Ronge Sask. Canada   \n",
       "2   5     NaN      NaN  All residents asked to 'shelter in place' are ...   \n",
       "3   6     NaN      NaN  13,000 people receive #wildfires evacuation or...   \n",
       "4   7     NaN      NaN  Just got sent this photo from Ruby #Alaska as ...   \n",
       "\n",
       "   target  \n",
       "0       1  \n",
       "1       1  \n",
       "2       1  \n",
       "3       1  \n",
       "4       1  "
      ]
     },
     "execution_count": 10,
     "metadata": {},
     "output_type": "execute_result"
    }
   ],
   "source": [
    "# Load data\n",
    "disaster = pd.read_csv('data/disaster.csv - disaster.csv')\n",
    "\n",
    "disaster.head()"
   ]
  },
  {
   "cell_type": "code",
   "execution_count": 8,
   "id": "d6bea019-186c-4536-bdd1-1fb267fe8218",
   "metadata": {
    "tags": []
   },
   "outputs": [],
   "source": [
    "# Cleaning text data\n",
    "def preprocess(text):\n",
    "    # Make all of the text in the `text` column lowercase\n",
    "    text = text.lower()\n",
    "    # Remove all of the leading and trailing white spaces in the `text` column\n",
    "    text=  text.strip() \n",
    "    # Remove html syntax\n",
    "    text=  re.sub(r'<.*?>','', text)\n",
    "    # Remove punctuation\n",
    "    text = re.sub(r'[^\\w\\s]','',text) # adding the r before the string tells the program we mean these strings as they are\n",
    "    # Remove reference numbers\n",
    "    text = re.sub(r'\\[[0-9]*\\]',' ',text)\n",
    "    # Removing digits\n",
    "    text = re.sub(r'\\d',' ',text)  \n",
    "    # Collapsing multiple spaces into a single space\n",
    "    text = re.sub(r'\\s+', ' ', text) \n",
    "    return text"
   ]
  },
  {
   "cell_type": "code",
   "execution_count": 14,
   "id": "fe086412-06b0-45e0-8c74-4f33d0cde8c2",
   "metadata": {
    "tags": []
   },
   "outputs": [
    {
     "data": {
      "text/html": [
       "<div>\n",
       "<style scoped>\n",
       "    .dataframe tbody tr th:only-of-type {\n",
       "        vertical-align: middle;\n",
       "    }\n",
       "\n",
       "    .dataframe tbody tr th {\n",
       "        vertical-align: top;\n",
       "    }\n",
       "\n",
       "    .dataframe thead th {\n",
       "        text-align: right;\n",
       "    }\n",
       "</style>\n",
       "<table border=\"1\" class=\"dataframe\">\n",
       "  <thead>\n",
       "    <tr style=\"text-align: right;\">\n",
       "      <th></th>\n",
       "      <th>id</th>\n",
       "      <th>keyword</th>\n",
       "      <th>location</th>\n",
       "      <th>text</th>\n",
       "      <th>target</th>\n",
       "      <th>clean_text</th>\n",
       "    </tr>\n",
       "  </thead>\n",
       "  <tbody>\n",
       "    <tr>\n",
       "      <th>0</th>\n",
       "      <td>1</td>\n",
       "      <td>NaN</td>\n",
       "      <td>NaN</td>\n",
       "      <td>Our Deeds are the Reason of this #earthquake M...</td>\n",
       "      <td>1</td>\n",
       "      <td>our deeds are the reason of this earthquake ma...</td>\n",
       "    </tr>\n",
       "    <tr>\n",
       "      <th>1</th>\n",
       "      <td>4</td>\n",
       "      <td>NaN</td>\n",
       "      <td>NaN</td>\n",
       "      <td>Forest fire near La Ronge Sask. Canada</td>\n",
       "      <td>1</td>\n",
       "      <td>forest fire near la ronge sask canada</td>\n",
       "    </tr>\n",
       "    <tr>\n",
       "      <th>2</th>\n",
       "      <td>5</td>\n",
       "      <td>NaN</td>\n",
       "      <td>NaN</td>\n",
       "      <td>All residents asked to 'shelter in place' are ...</td>\n",
       "      <td>1</td>\n",
       "      <td>all residents asked to shelter in place are be...</td>\n",
       "    </tr>\n",
       "    <tr>\n",
       "      <th>3</th>\n",
       "      <td>6</td>\n",
       "      <td>NaN</td>\n",
       "      <td>NaN</td>\n",
       "      <td>13,000 people receive #wildfires evacuation or...</td>\n",
       "      <td>1</td>\n",
       "      <td>people receive wildfires evacuation orders in...</td>\n",
       "    </tr>\n",
       "    <tr>\n",
       "      <th>4</th>\n",
       "      <td>7</td>\n",
       "      <td>NaN</td>\n",
       "      <td>NaN</td>\n",
       "      <td>Just got sent this photo from Ruby #Alaska as ...</td>\n",
       "      <td>1</td>\n",
       "      <td>just got sent this photo from ruby alaska as s...</td>\n",
       "    </tr>\n",
       "  </tbody>\n",
       "</table>\n",
       "</div>"
      ],
      "text/plain": [
       "   id keyword location                                               text  \\\n",
       "0   1     NaN      NaN  Our Deeds are the Reason of this #earthquake M...   \n",
       "1   4     NaN      NaN             Forest fire near La Ronge Sask. Canada   \n",
       "2   5     NaN      NaN  All residents asked to 'shelter in place' are ...   \n",
       "3   6     NaN      NaN  13,000 people receive #wildfires evacuation or...   \n",
       "4   7     NaN      NaN  Just got sent this photo from Ruby #Alaska as ...   \n",
       "\n",
       "   target                                         clean_text  \n",
       "0       1  our deeds are the reason of this earthquake ma...  \n",
       "1       1              forest fire near la ronge sask canada  \n",
       "2       1  all residents asked to shelter in place are be...  \n",
       "3       1   people receive wildfires evacuation orders in...  \n",
       "4       1  just got sent this photo from ruby alaska as s...  "
      ]
     },
     "execution_count": 14,
     "metadata": {},
     "output_type": "execute_result"
    }
   ],
   "source": [
    "# Apply string cleaning to text variable\n",
    "disaster['clean_text'] = disaster['text'].apply(preprocess)\n",
    "disaster.head()"
   ]
  },
  {
   "cell_type": "code",
   "execution_count": 11,
   "id": "88a4d7c8-944a-48b8-9ab3-c4445b0140ab",
   "metadata": {
    "tags": []
   },
   "outputs": [
    {
     "name": "stdout",
     "output_type": "stream",
     "text": [
      "Remaining words:\n",
      "['5th' 'awesome' 'capstone' 'crush' 'march' 'presentation' 'team']\n"
     ]
    }
   ],
   "source": [
    "# Proof that Tfidf vectorizer excludes stopwords\n",
    "stop_words = [\"On March 5th, I will crush my capstone presentation with my awesome team.\"]\n",
    "\n",
    "vectorizer_english = TfidfVectorizer(stop_words = \"english\")\n",
    "X_english = vectorizer_english.fit_transform(stop_words)\n",
    "\n",
    "print(\"Remaining words:\")\n",
    "print(vectorizer_english.get_feature_names_out())"
   ]
  },
  {
   "cell_type": "markdown",
   "id": "fc161f2c-b121-4d2a-91a6-e5104cb506e0",
   "metadata": {},
   "source": [
    "## Logistic Regression"
   ]
  },
  {
   "cell_type": "code",
   "execution_count": 16,
   "id": "e668300c-4ad7-468e-b268-6f58a215709f",
   "metadata": {
    "tags": []
   },
   "outputs": [],
   "source": [
    "# Split into test and train\n",
    "X_train, X_test, y_train, y_test = train_test_split(disaster['clean_text'], disaster['target'], test_size = 0.3, random_state = 42)"
   ]
  },
  {
   "cell_type": "code",
   "execution_count": 17,
   "id": "663d1c0c-c489-4a99-8afb-2c7d7f2e05aa",
   "metadata": {
    "tags": []
   },
   "outputs": [],
   "source": [
    "# Vectorize words\n",
    "tfidf_vectorizer = TfidfVectorizer(stop_words = \"english\")\n",
    "X_train_tfidf = tfidf_vectorizer.fit_transform(X_train)\n",
    "X_test_tfidf = tfidf_vectorizer.transform(X_test)"
   ]
  },
  {
   "cell_type": "code",
   "execution_count": 18,
   "id": "c3022764-cea2-4be1-ad5c-40fab74a628d",
   "metadata": {
    "tags": []
   },
   "outputs": [],
   "source": [
    "# Initialize a logistic regression model and fit to vectorized training data\n",
    "lr_model = LogisticRegression(random_state = 42)\n",
    "lr_model.fit(X_train_tfidf, y_train)\n",
    "y_pred = lr_model.predict(X_test_tfidf)"
   ]
  },
  {
   "cell_type": "markdown",
   "id": "bbe0a218-1e92-4d29-8c4c-0e75e4222dbe",
   "metadata": {},
   "source": [
    "## Logistic Regression Results"
   ]
  },
  {
   "cell_type": "code",
   "execution_count": 19,
   "id": "740e15bb-df75-45ac-b90f-66a3840abb34",
   "metadata": {
    "tags": []
   },
   "outputs": [
    {
     "name": "stdout",
     "output_type": "stream",
     "text": [
      "Accuracy: 0.803415061295972\n"
     ]
    },
    {
     "data": {
      "image/png": "[encoded data removed]",
      "text/plain": [
       "<Figure size 800x600 with 2 Axes>"
      ]
     },
     "metadata": {},
     "output_type": "display_data"
    }
   ],
   "source": [
    "# Calculate LR accuracy\n",
    "accuracy = accuracy_score(y_test, y_pred)\n",
    "print(f\"Accuracy: {accuracy}\")\n",
    "\n",
    "# Create confusion matrix for correctly/incorrectly predicting outcome variable \n",
    "cm = confusion_matrix(y_test, y_pred)\n",
    "plt.figure(figsize = (8,6))\n",
    "sns.heatmap(cm, annot = True, fmt = 'd', cmap = \"GnBu\",\n",
    "           xticklabels = [\"No Disaster\", \"Disaster\"],\n",
    "           yticklabels = [\"No Disaster\", \"Disaster\"])\n",
    "plt.title(\"Logistic Regression Model Performance\")\n",
    "plt.xlabel('Predicted')\n",
    "plt.ylabel('True')\n",
    "plt.show()"
   ]
  },
  {
   "cell_type": "markdown",
   "id": "f8db621c-2eaa-4dcd-b68f-57eacc690025",
   "metadata": {},
   "source": [
    "## Test Model with New Data"
   ]
  },
  {
   "cell_type": "code",
   "execution_count": 27,
   "id": "d8bbf389-4b24-4251-a97c-2cd81890521a",
   "metadata": {
    "tags": []
   },
   "outputs": [
    {
     "name": "stdout",
     "output_type": "stream",
     "text": [
      "Text: BREAKING: Massive earthquake hits the coast\n",
      "Predicitons: Real Disaster\n",
      "\n",
      "Text: I love watching disasters movies on Netflix\n",
      "Predicitons: Not a Real Disaster\n",
      "\n",
      "Text: Thousands evacuated as hurricane approaches\n",
      "Predicitons: Real Disaster\n",
      "\n",
      "Text: Theeeeessss is a disastttttteeerrrr\n",
      "Predicitons: Not a Real Disaster\n",
      "\n",
      "Text: It's windy!\n",
      "Predicitons: Not a Real Disaster\n",
      "\n",
      "Text: The Palisades wildfire has damaged over 7,000 structures\n",
      "Predicitons: Real Disaster\n",
      "\n",
      "Text: I broke my tooth on a jawbreaker\n",
      "Predicitons: Not a Real Disaster\n",
      "\n",
      "Text: Dozens of towns warned of impending thunderstorms that may bring tornados\n",
      "Predicitons: Not a Real Disaster\n",
      "\n"
     ]
    }
   ],
   "source": [
    "new_text = [\n",
    "    \"BREAKING: Massive earthquake hits the coast\",\n",
    "    \"I love watching disasters movies on Netflix\",\n",
    "    \"Thousands evacuated as hurricane approaches\",\n",
    "    \"Theeeeessss is a disastttttteeerrrr\",\n",
    "    \"It's windy!\",\n",
    "    \"The Palisades wildfire has damaged over 7,000 structures\",\n",
    "    \"I broke my tooth on a jawbreaker\",\n",
    "    \"Dozens of towns warned of impending thunderstorms that may bring tornados\"\n",
    "]\n",
    "\n",
    "# Preprocess new phrases\n",
    "cleaned_new_text = [preprocess(text) for text in new_text]\n",
    "\n",
    "# Transform using TF-IDF vectorizer\n",
    "new_features = tfidf_vectorizer.transform(cleaned_new_text)\n",
    "\n",
    "# Make predictions\n",
    "predictions = lr_model.predict(new_features)\n",
    "\n",
    "# Check outcomes\n",
    "for text,pred in zip(new_text, predictions):\n",
    "    print(f\"Text: {text}\")\n",
    "    print(f\"Predicitons: {'Real Disaster' if pred == 1 else 'Not a Real Disaster'}\\n\")"
   ]
  },
  {
   "cell_type": "code",
   "execution_count": null,
   "id": "80085424-d559-429f-96aa-9ba8afdc8a15",
   "metadata": {},
   "outputs": [],
   "source": []
  }
 ],
 "metadata": {
  "kernelspec": {
   "display_name": "Anaconda 3 (EDS232)",
   "language": "python",
   "name": "ml-env"
  },
  "language_info": {
   "codemirror_mode": {
    "name": "ipython",
    "version": 3
   },
   "file_extension": ".py",
   "mimetype": "text/x-python",
   "name": "python",
   "nbconvert_exporter": "python",
   "pygments_lexer": "ipython3",
   "version": "3.10.16"
  }
 },
 "nbformat": 4,
 "nbformat_minor": 5
}
